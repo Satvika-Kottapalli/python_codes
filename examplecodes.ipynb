{
  "cells": [
    {
      "cell_type": "markdown",
      "metadata": {
        "id": "view-in-github",
        "colab_type": "text"
      },
      "source": [
        "<a href=\"https://colab.research.google.com/github/Satvika-Kottapalli/python_codes/blob/main/examplecodes.ipynb\" target=\"_parent\"><img src=\"https://colab.research.google.com/assets/colab-badge.svg\" alt=\"Open In Colab\"/></a>"
      ]
    },
    {
      "cell_type": "code",
      "execution_count": null,
      "metadata": {
        "colab": {
          "base_uri": "https://localhost:8080/"
        },
        "id": "AIDHrLiSrt6Q",
        "outputId": "8a379201-63a8-4118-9ce8-7d0183c0d612"
      },
      "outputs": [
        {
          "name": "stdout",
          "output_type": "stream",
          "text": [
            "Hello Students\n"
          ]
        }
      ],
      "source": [
        "print(\"Hello Students\")"
      ]
    },
    {
      "cell_type": "code",
      "execution_count": null,
      "metadata": {
        "colab": {
          "base_uri": "https://localhost:8080/"
        },
        "id": "82AucwqysBJD",
        "outputId": "81ba948c-b701-4d7a-ecd7-237fa881b15e"
      },
      "outputs": [
        {
          "name": "stdout",
          "output_type": "stream",
          "text": [
            "Python Data Science 20\n"
          ]
        }
      ],
      "source": [
        "print(\"Python\",\"Data Science\",20)"
      ]
    },
    {
      "cell_type": "markdown",
      "metadata": {
        "id": "ibZBGKnV0lsn"
      },
      "source": [
        "** Variables and Datatypes**"
      ]
    },
    {
      "cell_type": "code",
      "execution_count": null,
      "metadata": {
        "id": "NaTlaW0_wzE4"
      },
      "outputs": [],
      "source": [
        "i=5"
      ]
    },
    {
      "cell_type": "code",
      "execution_count": null,
      "metadata": {
        "colab": {
          "base_uri": "https://localhost:8080/"
        },
        "id": "3i8ATbvpw2eN",
        "outputId": "30fc4e1b-a0fc-449d-a932-ba0db67a6802"
      },
      "outputs": [
        {
          "name": "stdout",
          "output_type": "stream",
          "text": [
            "5\n"
          ]
        }
      ],
      "source": [
        "print(i)"
      ]
    },
    {
      "cell_type": "code",
      "execution_count": null,
      "metadata": {
        "colab": {
          "base_uri": "https://localhost:8080/"
        },
        "id": "4vaTsre8w4gE",
        "outputId": "61371517-7ad0-4ad1-c8a6-bceedfaf849a"
      },
      "outputs": [
        {
          "data": {
            "text/plain": [
              "int"
            ]
          },
          "execution_count": 5,
          "metadata": {},
          "output_type": "execute_result"
        }
      ],
      "source": [
        "type(i)"
      ]
    },
    {
      "cell_type": "code",
      "execution_count": null,
      "metadata": {
        "id": "Sv4Bi2Wmw7nP"
      },
      "outputs": [],
      "source": [
        "i=\"Python code\""
      ]
    },
    {
      "cell_type": "code",
      "execution_count": null,
      "metadata": {
        "colab": {
          "base_uri": "https://localhost:8080/"
        },
        "id": "lKOJqgrZxA4c",
        "outputId": "32d682fa-73a0-47da-9de2-99314d9fdcc5"
      },
      "outputs": [
        {
          "name": "stdout",
          "output_type": "stream",
          "text": [
            "Python code\n"
          ]
        }
      ],
      "source": [
        "print(i)"
      ]
    },
    {
      "cell_type": "code",
      "execution_count": null,
      "metadata": {
        "colab": {
          "base_uri": "https://localhost:8080/"
        },
        "id": "saXr97L3xDrV",
        "outputId": "ed7cdd58-0f77-4a96-8288-e4e9db1c9ab1"
      },
      "outputs": [
        {
          "data": {
            "text/plain": [
              "str"
            ]
          },
          "execution_count": 8,
          "metadata": {},
          "output_type": "execute_result"
        }
      ],
      "source": [
        "type(i)"
      ]
    },
    {
      "cell_type": "code",
      "execution_count": null,
      "metadata": {
        "colab": {
          "base_uri": "https://localhost:8080/"
        },
        "id": "xAmgrLN-yP8B",
        "outputId": "f261d11a-c120-480c-d65b-185de1aeba53"
      },
      "outputs": [
        {
          "name": "stdout",
          "output_type": "stream",
          "text": [
            "82.2\n",
            "<class 'float'>\n"
          ]
        }
      ],
      "source": [
        "my_f=82.2\n",
        "print(my_f)\n",
        "print(type(my_f))"
      ]
    },
    {
      "cell_type": "code",
      "execution_count": null,
      "metadata": {
        "colab": {
          "base_uri": "https://localhost:8080/"
        },
        "id": "qH1CbQDjyadA",
        "outputId": "de63a592-4774-4f84-fdb6-e8d219afa04f"
      },
      "outputs": [
        {
          "name": "stdout",
          "output_type": "stream",
          "text": [
            "True\n",
            "<class 'bool'>\n"
          ]
        }
      ],
      "source": [
        "my_bool=True\n",
        "print(my_bool)\n",
        "print(type(my_bool))"
      ]
    },
    {
      "cell_type": "code",
      "execution_count": null,
      "metadata": {
        "colab": {
          "base_uri": "https://localhost:8080/"
        },
        "id": "f0VW_a1nyc92",
        "outputId": "7535ecaf-5202-4f47-8c86-dbce2d3a17c2"
      },
      "outputs": [
        {
          "name": "stdout",
          "output_type": "stream",
          "text": [
            "None\n",
            "<class 'NoneType'>\n"
          ]
        }
      ],
      "source": [
        "my_none=None\n",
        "print(my_none)\n",
        "print(type(my_none))"
      ]
    },
    {
      "cell_type": "markdown",
      "metadata": {
        "id": "ubUwNPRq00mf"
      },
      "source": [
        "** Input **"
      ]
    },
    {
      "cell_type": "code",
      "execution_count": null,
      "metadata": {
        "colab": {
          "base_uri": "https://localhost:8080/"
        },
        "id": "_FoiU9O31svd",
        "outputId": "99b8249c-4f84-44e3-f8ab-74497ba82952"
      },
      "outputs": [
        {
          "name": "stdout",
          "output_type": "stream",
          "text": [
            "Enter your name:Satvika\n"
          ]
        }
      ],
      "source": [
        "name=input(\"Enter your name:\")"
      ]
    },
    {
      "cell_type": "code",
      "execution_count": null,
      "metadata": {
        "colab": {
          "base_uri": "https://localhost:8080/"
        },
        "id": "NYmefCHzzmr-",
        "outputId": "7818a399-0388-4951-8e07-14246b659392"
      },
      "outputs": [
        {
          "name": "stdout",
          "output_type": "stream",
          "text": [
            "Satvika\n",
            "<class 'str'>\n"
          ]
        }
      ],
      "source": [
        "print(name)\n",
        "print(type(name))"
      ]
    },
    {
      "cell_type": "markdown",
      "metadata": {
        "id": "vSI350Mp1TqI"
      },
      "source": [
        "**Type Casting**"
      ]
    },
    {
      "cell_type": "code",
      "execution_count": null,
      "metadata": {
        "colab": {
          "base_uri": "https://localhost:8080/"
        },
        "id": "7TdPdlAfz2Tj",
        "outputId": "7fea9836-8c13-4d15-a0ec-ff92ecd00b0c"
      },
      "outputs": [
        {
          "name": "stdout",
          "output_type": "stream",
          "text": [
            "<class 'str'>\n"
          ]
        }
      ],
      "source": [
        "num='8'\n",
        "print(type(num))"
      ]
    },
    {
      "cell_type": "code",
      "execution_count": null,
      "metadata": {
        "colab": {
          "base_uri": "https://localhost:8080/"
        },
        "id": "Rdi0kundz-aQ",
        "outputId": "419a5c68-3db6-445c-b1a4-2b1dd97b0349"
      },
      "outputs": [
        {
          "name": "stdout",
          "output_type": "stream",
          "text": [
            "<class 'int'>\n"
          ]
        }
      ],
      "source": [
        "num=int(num)\n",
        "print(type(num))"
      ]
    },
    {
      "cell_type": "code",
      "execution_count": null,
      "metadata": {
        "colab": {
          "base_uri": "https://localhost:8080/"
        },
        "id": "XTrSKmrv0EmE",
        "outputId": "cc997a20-22ec-4f33-9c81-b7195694497f"
      },
      "outputs": [
        {
          "name": "stdout",
          "output_type": "stream",
          "text": [
            "What is your age ? 20\n"
          ]
        }
      ],
      "source": [
        "age=int(input(\"What is your age ? \"))"
      ]
    },
    {
      "cell_type": "code",
      "execution_count": null,
      "metadata": {
        "colab": {
          "base_uri": "https://localhost:8080/"
        },
        "id": "K3ej5u390O78",
        "outputId": "b38541df-4f16-442f-9bc6-c793af0e920b"
      },
      "outputs": [
        {
          "name": "stdout",
          "output_type": "stream",
          "text": [
            "20\n",
            "<class 'int'>\n"
          ]
        }
      ],
      "source": [
        "print(age)\n",
        "print(type(age))"
      ]
    },
    {
      "cell_type": "markdown",
      "metadata": {
        "id": "9Z8DKQW71-se"
      },
      "source": [
        "**Operators **"
      ]
    },
    {
      "cell_type": "markdown",
      "metadata": {
        "id": "1q0Wdjs92cJO"
      },
      "source": [
        "Arithmatic"
      ]
    },
    {
      "cell_type": "code",
      "execution_count": null,
      "metadata": {
        "id": "Istg04912ZtV"
      },
      "outputs": [],
      "source": [
        "a=12\n",
        "b=3"
      ]
    },
    {
      "cell_type": "code",
      "execution_count": null,
      "metadata": {
        "colab": {
          "base_uri": "https://localhost:8080/"
        },
        "id": "BH0MRbBz2o_6",
        "outputId": "af463e8e-02f8-489d-875a-40f78ab2c65d"
      },
      "outputs": [
        {
          "name": "stdout",
          "output_type": "stream",
          "text": [
            "add=  15\n",
            "sub=  9\n",
            "multi=  36\n",
            "div=  4.0\n",
            "f_div=  4\n",
            "exp=  1728\n",
            "mod=  0\n"
          ]
        }
      ],
      "source": [
        "print(\"add= \",a+b)\n",
        "print(\"sub= \",a-b)\n",
        "print(\"multi= \",a*b)\n",
        "print(\"div= \",a/b)\n",
        "print(\"f_div= \",a//b)\n",
        "print(\"exp= \",a**b)\n",
        "print(\"mod= \",a%b)"
      ]
    },
    {
      "cell_type": "markdown",
      "metadata": {
        "id": "RNHf_Gwm3aBS"
      },
      "source": [
        "Comparision"
      ]
    },
    {
      "cell_type": "code",
      "execution_count": null,
      "metadata": {
        "colab": {
          "base_uri": "https://localhost:8080/"
        },
        "id": "2JrJ0EKX3Xlj",
        "outputId": "096f69c3-b2a4-4f31-88b3-bda62eaf1c75"
      },
      "outputs": [
        {
          "name": "stdout",
          "output_type": "stream",
          "text": [
            "a>b: True\n",
            "a<b: False\n",
            "a==b: False\n",
            "a!=b: True\n"
          ]
        }
      ],
      "source": [
        "print(\"a>b:\",a>b)\n",
        "print(\"a<b:\",a<b)\n",
        "print(\"a==b:\",a==b)\n",
        "print(\"a!=b:\",a!=b)"
      ]
    },
    {
      "cell_type": "markdown",
      "metadata": {
        "id": "yhrTLV7S30Vy"
      },
      "source": [
        "Logical"
      ]
    },
    {
      "cell_type": "code",
      "execution_count": null,
      "metadata": {
        "colab": {
          "base_uri": "https://localhost:8080/"
        },
        "id": "R8aGW_tV34fL",
        "outputId": "2c145830-760c-4bc3-b0f2-8c6cf9f43d93"
      },
      "outputs": [
        {
          "name": "stdout",
          "output_type": "stream",
          "text": [
            "True\n"
          ]
        }
      ],
      "source": [
        "print((10>2)and (10<20))"
      ]
    },
    {
      "cell_type": "code",
      "execution_count": null,
      "metadata": {
        "colab": {
          "base_uri": "https://localhost:8080/"
        },
        "id": "UeRhCgFw3-g3",
        "outputId": "fd7631c2-8b31-4db1-a814-fd131853a7cf"
      },
      "outputs": [
        {
          "name": "stdout",
          "output_type": "stream",
          "text": [
            "False\n"
          ]
        }
      ],
      "source": [
        "print((10>20) or (10>11))"
      ]
    },
    {
      "cell_type": "code",
      "execution_count": null,
      "metadata": {
        "colab": {
          "base_uri": "https://localhost:8080/"
        },
        "id": "VUMw0KNc4Ev4",
        "outputId": "401b1029-ea98-4000-f037-e2507c02e4c9"
      },
      "outputs": [
        {
          "name": "stdout",
          "output_type": "stream",
          "text": [
            "False\n"
          ]
        }
      ],
      "source": [
        "print(not(True))"
      ]
    },
    {
      "cell_type": "markdown",
      "metadata": {
        "id": "-lIAeWYU4IL8"
      },
      "source": [
        "Bitwise"
      ]
    },
    {
      "cell_type": "code",
      "execution_count": null,
      "metadata": {
        "colab": {
          "base_uri": "https://localhost:8080/"
        },
        "id": "fL_LJBw-4KK8",
        "outputId": "085dafc4-ee1b-43a6-ed00-d12f9073853a"
      },
      "outputs": [
        {
          "name": "stdout",
          "output_type": "stream",
          "text": [
            "0\n"
          ]
        }
      ],
      "source": [
        "print(10 & 4)"
      ]
    },
    {
      "cell_type": "code",
      "execution_count": null,
      "metadata": {
        "colab": {
          "base_uri": "https://localhost:8080/"
        },
        "id": "ONTXy0Yr4SC8",
        "outputId": "261b85fc-62e9-441d-b247-2f0267b0d08b"
      },
      "outputs": [
        {
          "name": "stdout",
          "output_type": "stream",
          "text": [
            "14\n"
          ]
        }
      ],
      "source": [
        "print(10 | 4)"
      ]
    },
    {
      "cell_type": "markdown",
      "metadata": {
        "id": "cckISEzq4YBw"
      },
      "source": [
        "Membership"
      ]
    },
    {
      "cell_type": "code",
      "execution_count": null,
      "metadata": {
        "colab": {
          "base_uri": "https://localhost:8080/"
        },
        "id": "wYaSYqJ_4Zs0",
        "outputId": "6570d613-6528-45df-9dcb-705f397bf5a5"
      },
      "outputs": [
        {
          "data": {
            "text/plain": [
              "True"
            ]
          },
          "execution_count": 33,
          "metadata": {},
          "output_type": "execute_result"
        }
      ],
      "source": [
        "\"g\" in \"good\""
      ]
    },
    {
      "cell_type": "markdown",
      "metadata": {
        "id": "dhCeozfm4kzf"
      },
      "source": [
        "Control Flow: Conditional Statements"
      ]
    },
    {
      "cell_type": "code",
      "execution_count": null,
      "metadata": {
        "colab": {
          "base_uri": "https://localhost:8080/"
        },
        "id": "f_eGo6Yw41gU",
        "outputId": "b9e5c770-001c-4a85-9f6a-6c9a04df9907"
      },
      "outputs": [
        {
          "name": "stdout",
          "output_type": "stream",
          "text": [
            "Grow up first\n"
          ]
        }
      ],
      "source": [
        "age=14\n",
        "if(age>=18):\n",
        "  print(\"you can vote\")\n",
        "else:\n",
        "  print(\"Grow up first\")"
      ]
    },
    {
      "cell_type": "code",
      "execution_count": null,
      "metadata": {
        "colab": {
          "base_uri": "https://localhost:8080/"
        },
        "id": "-oA4OGED4cAD",
        "outputId": "a5b44b13-550f-4882-92db-c1ef2ead0394"
      },
      "outputs": [
        {
          "name": "stdout",
          "output_type": "stream",
          "text": [
            "Grow up first\n"
          ]
        }
      ],
      "source": [
        "age=17\n",
        "if(age>=18):\n",
        "  print(\"you can vote\")\n",
        "elif(age >=15):\n",
        "  print(\"Grow up first\")\n",
        "else:\n",
        "  print(\"Go home kid..\")"
      ]
    },
    {
      "cell_type": "markdown",
      "metadata": {
        "id": "U6b4KePa5bcY"
      },
      "source": [
        "Control Flow:Loops/iterations"
      ]
    },
    {
      "cell_type": "markdown",
      "metadata": {
        "id": "VZpOirJm5qWA"
      },
      "source": [
        "Q.Print all even numbers from 1 to 20"
      ]
    },
    {
      "cell_type": "code",
      "execution_count": null,
      "metadata": {
        "colab": {
          "base_uri": "https://localhost:8080/"
        },
        "id": "QTEscTg15n_h",
        "outputId": "1f9251d0-8f16-4eaa-81a1-73a32e1b0b4a"
      },
      "outputs": [
        {
          "name": "stdout",
          "output_type": "stream",
          "text": [
            "2,4,6,8,10,12,14,16,18,20,"
          ]
        }
      ],
      "source": [
        "i=1\n",
        "while(i<=20):\n",
        "  if(i%2==0):\n",
        "    print(i,end=\",\") #end is used to print all o/p's in one line\n",
        "  i=i+1"
      ]
    },
    {
      "cell_type": "code",
      "execution_count": null,
      "metadata": {
        "colab": {
          "base_uri": "https://localhost:8080/"
        },
        "id": "XTSMvze16oXC",
        "outputId": "9174a4cb-b0d3-4d31-ff65-77d2e67a3432"
      },
      "outputs": [
        {
          "name": "stdout",
          "output_type": "stream",
          "text": [
            "2 4 6 8 10 12 14 16 18 20 "
          ]
        }
      ],
      "source": [
        "for i in range(1,21):\n",
        "  if(i%2==0):\n",
        "    print(i,end=\" \")"
      ]
    },
    {
      "cell_type": "code",
      "execution_count": null,
      "metadata": {
        "colab": {
          "base_uri": "https://localhost:8080/"
        },
        "id": "EPAWy1sW7NXI",
        "outputId": "c33196d3-dc1c-4a23-9303-7a32eae5643d"
      },
      "outputs": [
        {
          "name": "stdout",
          "output_type": "stream",
          "text": [
            "2 4 6 8 10 12 14 16 18 20 "
          ]
        }
      ],
      "source": [
        "for i in range(2,21,2):\n",
        "  if(i%2==0):\n",
        "    print(i,end=\" \")"
      ]
    },
    {
      "cell_type": "code",
      "execution_count": null,
      "metadata": {
        "colab": {
          "base_uri": "https://localhost:8080/"
        },
        "id": "asr6DIwS72Nk",
        "outputId": "075072da-4204-41a6-f2e8-1866a10f42dc"
      },
      "outputs": [
        {
          "name": "stdout",
          "output_type": "stream",
          "text": [
            "enter a number: 3\n",
            "3 x 1 = 3\n",
            "3 x 2 = 6\n",
            "3 x 3 = 9\n",
            "3 x 4 = 12\n",
            "3 x 5 = 15\n",
            "3 x 6 = 18\n",
            "3 x 7 = 21\n",
            "3 x 8 = 24\n",
            "3 x 9 = 27\n",
            "3 x 10 = 30\n"
          ]
        }
      ],
      "source": [
        "n=int(input(\"enter a number: \"))\n",
        "for i in range(1,11,1):\n",
        "  print(n,\"x\",i,\"=\",n*i)"
      ]
    },
    {
      "cell_type": "markdown",
      "metadata": {
        "id": "dFQpKhPS8VsS"
      },
      "source": [
        "**Break and Continue **"
      ]
    },
    {
      "cell_type": "code",
      "execution_count": null,
      "metadata": {
        "colab": {
          "base_uri": "https://localhost:8080/"
        },
        "id": "gabrw0Y98bay",
        "outputId": "bd1f4923-72fe-4a08-8089-5ac465165b9b"
      },
      "outputs": [
        {
          "name": "stdout",
          "output_type": "stream",
          "text": [
            "1\n",
            "2\n",
            "3\n",
            "4\n",
            "5\n"
          ]
        }
      ],
      "source": [
        "for i in range(1,10):\n",
        "  if (i==6):\n",
        "    break  #used to terminate all iterations\n",
        "  print(i)"
      ]
    },
    {
      "cell_type": "code",
      "execution_count": null,
      "metadata": {
        "colab": {
          "base_uri": "https://localhost:8080/"
        },
        "id": "KZJDt32t800-",
        "outputId": "e4edcd4d-4b39-49fc-f536-c90ce0ddd29d"
      },
      "outputs": [
        {
          "name": "stdout",
          "output_type": "stream",
          "text": [
            "1\n",
            "2\n",
            "3\n",
            "4\n",
            "5\n",
            "7\n",
            "8\n",
            "9\n"
          ]
        }
      ],
      "source": [
        "for i in range(1,10):\n",
        "  if (i==6):\n",
        "    continue #skips just current iteration\n",
        "  print(i)"
      ]
    },
    {
      "cell_type": "markdown",
      "metadata": {
        "id": "rIuDXUd49CU9"
      },
      "source": [
        "**Challenges**"
      ]
    },
    {
      "cell_type": "markdown",
      "metadata": {
        "id": "cbPna-KN9LfI"
      },
      "source": [
        "Q1) Write a program to check given number is even/odd"
      ]
    },
    {
      "cell_type": "code",
      "execution_count": null,
      "metadata": {
        "colab": {
          "base_uri": "https://localhost:8080/"
        },
        "id": "6eyFYQdt9FeO",
        "outputId": "d758f0e9-9d9a-4389-e4bf-893340dfc62f"
      },
      "outputs": [
        {
          "name": "stdout",
          "output_type": "stream",
          "text": [
            "Enter number: 22\n",
            "Given number is even\n"
          ]
        }
      ],
      "source": [
        "n=int(input(\"Enter number: \"))\n",
        "if(n%2==0):\n",
        "  print(\"Given number is even\")\n",
        "else:\n",
        "  print(\"Given number is odd\")"
      ]
    },
    {
      "cell_type": "markdown",
      "metadata": {
        "id": "G8lhvxBV9t4K"
      },
      "source": [
        "Q2)Write a number to find the largest among the given three numbers(take 3 inputs from user)"
      ]
    },
    {
      "cell_type": "code",
      "execution_count": null,
      "metadata": {
        "colab": {
          "base_uri": "https://localhost:8080/"
        },
        "id": "n_3gV_TA9n2J",
        "outputId": "8fd2e8dd-6440-4e1e-93c6-8bb0eb173f16"
      },
      "outputs": [
        {
          "name": "stdout",
          "output_type": "stream",
          "text": [
            "Enter first number: 2\n",
            "Enter second number: 3\n",
            "Enter third number: 5\n",
            "5  is largest among the given 3 numbers\n"
          ]
        }
      ],
      "source": [
        "a=int(input(\"Enter first number: \"))\n",
        "b=int(input(\"Enter second number: \"))\n",
        "c=int(input(\"Enter third number: \"))\n",
        "if((a>b) and (a>c)):\n",
        "  print(a,\" is largest among the given 3 numbers\")\n",
        "elif((b>c) and (b>a)):\n",
        "  print(b,\" is largest among the given 3 numbers\")\n",
        "else:\n",
        "    print(c,\" is largest among the given 3 numbers\")"
      ]
    },
    {
      "cell_type": "markdown",
      "metadata": {
        "id": "fQh2Xtvn-z4E"
      },
      "source": [
        "Q3) Write a program to calculate the factorial of a given number?"
      ]
    },
    {
      "cell_type": "code",
      "execution_count": 2,
      "metadata": {
        "colab": {
          "base_uri": "https://localhost:8080/"
        },
        "id": "AzuL3TYo--4W",
        "outputId": "aee19e3c-6413-4200-f91c-245ff4ca0447"
      },
      "outputs": [
        {
          "output_type": "stream",
          "name": "stdout",
          "text": [
            "Enter a number: 5\n",
            "Factorial of  5 is:  120\n"
          ]
        }
      ],
      "source": [
        "n=int(input(\"Enter a number: \"))\n",
        "fact=1\n",
        "if(n==0 or n==1):\n",
        "  print(\"Factorial of \",n,\"is: 1\")\n",
        "if(n>1):\n",
        "  for i in range(1,n+1):\n",
        "    fact=fact*i\n",
        "  print(\"Factorial of \",n,\"is: \",fact)"
      ]
    },
    {
      "cell_type": "markdown",
      "source": [
        "Q4)Write a program to check given number is prime or not"
      ],
      "metadata": {
        "id": "ddIAMBfAWwlH"
      }
    },
    {
      "cell_type": "code",
      "source": [
        "n=int(input(\"Enter a number: \"))\n",
        "count=0\n",
        "if(n==1):\n",
        "  print(\"neither prime nor composite\")\n",
        "elif(n>1):\n",
        "  for i in range(1,n+1):\n",
        "    if(n%i==0):\n",
        "      count+=1\n",
        "  if(count<=2):\n",
        "    print(n,\"is prime\")\n",
        "else:\n",
        "  print(n,\"is not prime\")"
      ],
      "metadata": {
        "colab": {
          "base_uri": "https://localhost:8080/"
        },
        "id": "EsK74U8eW0gx",
        "outputId": "c4ab0bd5-853f-4633-cf69-1e324547f9e6"
      },
      "execution_count": 3,
      "outputs": [
        {
          "output_type": "stream",
          "name": "stdout",
          "text": [
            "Enter a number: 37\n",
            "37 is prime\n"
          ]
        }
      ]
    },
    {
      "cell_type": "markdown",
      "source": [
        "Python built-in Data structures"
      ],
      "metadata": {
        "id": "VSDvMV69XGmQ"
      }
    },
    {
      "cell_type": "markdown",
      "source": [
        "Strings"
      ],
      "metadata": {
        "id": "FRrIMmHJXOXx"
      }
    },
    {
      "cell_type": "code",
      "source": [
        "my_str=\"Welcome to the Course\""
      ],
      "metadata": {
        "id": "tETF5k9TXMot"
      },
      "execution_count": 6,
      "outputs": []
    },
    {
      "cell_type": "code",
      "source": [
        "print(my_str)\n",
        "print(type(my_str))"
      ],
      "metadata": {
        "colab": {
          "base_uri": "https://localhost:8080/"
        },
        "id": "e1H02iOBXauh",
        "outputId": "5f6e25b3-13f1-44a4-a929-d99a27711603"
      },
      "execution_count": 7,
      "outputs": [
        {
          "output_type": "stream",
          "name": "stdout",
          "text": [
            "Welcome to the Course\n",
            "<class 'str'>\n"
          ]
        }
      ]
    },
    {
      "cell_type": "markdown",
      "source": [
        "Indexing a String"
      ],
      "metadata": {
        "id": "pOjyKXEKXmBr"
      }
    },
    {
      "cell_type": "code",
      "source": [
        "print(my_str[0])\n",
        "print(my_str[1])"
      ],
      "metadata": {
        "colab": {
          "base_uri": "https://localhost:8080/"
        },
        "id": "GMSyTos0Xr2i",
        "outputId": "b0a589ff-fc8f-45f1-f2da-3c2dcb178c9c"
      },
      "execution_count": 9,
      "outputs": [
        {
          "output_type": "stream",
          "name": "stdout",
          "text": [
            "W\n",
            "e\n"
          ]
        }
      ]
    },
    {
      "cell_type": "code",
      "source": [
        "print(len(my_str))"
      ],
      "metadata": {
        "colab": {
          "base_uri": "https://localhost:8080/"
        },
        "id": "GENVdgjNX-gM",
        "outputId": "e748a946-264a-4584-8105-8c9ad6c718b2"
      },
      "execution_count": 10,
      "outputs": [
        {
          "output_type": "stream",
          "name": "stdout",
          "text": [
            "21\n"
          ]
        }
      ]
    },
    {
      "cell_type": "code",
      "source": [
        "print(my_str[len(my_str)-1])"
      ],
      "metadata": {
        "colab": {
          "base_uri": "https://localhost:8080/"
        },
        "id": "bsqg5ueaYCNI",
        "outputId": "50a25a74-75c3-49b6-820d-e6f32f261dc2"
      },
      "execution_count": 11,
      "outputs": [
        {
          "output_type": "stream",
          "name": "stdout",
          "text": [
            "e\n"
          ]
        }
      ]
    },
    {
      "cell_type": "markdown",
      "source": [
        "Negative index"
      ],
      "metadata": {
        "id": "7G8iIQP3YQEN"
      }
    },
    {
      "cell_type": "code",
      "source": [
        "print(my_str[-1])\n",
        "print(my_str[-5])"
      ],
      "metadata": {
        "colab": {
          "base_uri": "https://localhost:8080/"
        },
        "id": "voMWPKPmYS3X",
        "outputId": "9c283673-6814-40b0-bfcc-2bcbf1cea389"
      },
      "execution_count": 12,
      "outputs": [
        {
          "output_type": "stream",
          "name": "stdout",
          "text": [
            "e\n",
            "o\n"
          ]
        }
      ]
    },
    {
      "cell_type": "markdown",
      "source": [
        "String slicing"
      ],
      "metadata": {
        "id": "NCE90H8bYeY5"
      }
    },
    {
      "cell_type": "code",
      "source": [
        "print(my_str[2:7])"
      ],
      "metadata": {
        "colab": {
          "base_uri": "https://localhost:8080/"
        },
        "id": "THDilQx5YgW3",
        "outputId": "23ba0ff2-ab00-48cd-9e6e-c5402059777a"
      },
      "execution_count": 13,
      "outputs": [
        {
          "output_type": "stream",
          "name": "stdout",
          "text": [
            "lcome\n"
          ]
        }
      ]
    },
    {
      "cell_type": "code",
      "source": [
        "print(my_str[:])"
      ],
      "metadata": {
        "colab": {
          "base_uri": "https://localhost:8080/"
        },
        "id": "niiy5PI3YnKU",
        "outputId": "9d115b57-bb53-479c-9673-6cdb0c8eeb07"
      },
      "execution_count": 14,
      "outputs": [
        {
          "output_type": "stream",
          "name": "stdout",
          "text": [
            "Welcome to the Course\n"
          ]
        }
      ]
    },
    {
      "cell_type": "code",
      "source": [
        "print(my_str[:-1])"
      ],
      "metadata": {
        "colab": {
          "base_uri": "https://localhost:8080/"
        },
        "id": "loN2fydLYqn-",
        "outputId": "4e026da0-5b11-4b4f-a9b7-b0bd8ebc85de"
      },
      "execution_count": 15,
      "outputs": [
        {
          "output_type": "stream",
          "name": "stdout",
          "text": [
            "Welcome to the Cours\n"
          ]
        }
      ]
    },
    {
      "cell_type": "markdown",
      "source": [
        "Imp methods related to strings"
      ],
      "metadata": {
        "id": "ZST6vUclY4yW"
      }
    },
    {
      "cell_type": "code",
      "source": [
        "print(my_str)"
      ],
      "metadata": {
        "colab": {
          "base_uri": "https://localhost:8080/"
        },
        "id": "2zfCj0o-Y-mr",
        "outputId": "0ba5b3c0-e557-4495-cfe1-9a73ed47ef37"
      },
      "execution_count": 16,
      "outputs": [
        {
          "output_type": "stream",
          "name": "stdout",
          "text": [
            "Welcome to the Course\n"
          ]
        }
      ]
    },
    {
      "cell_type": "code",
      "source": [
        "print(my_str.lower())"
      ],
      "metadata": {
        "colab": {
          "base_uri": "https://localhost:8080/"
        },
        "id": "LmboQfD5ZFlv",
        "outputId": "d694060d-04c7-42c5-e612-1be4054349f7"
      },
      "execution_count": 18,
      "outputs": [
        {
          "output_type": "stream",
          "name": "stdout",
          "text": [
            "welcome to the course\n"
          ]
        }
      ]
    },
    {
      "cell_type": "code",
      "source": [
        "print(my_str.upper())"
      ],
      "metadata": {
        "colab": {
          "base_uri": "https://localhost:8080/"
        },
        "id": "wxHLCY1fZK7-",
        "outputId": "7c7f3078-e494-458e-f77d-42ac66be0096"
      },
      "execution_count": 19,
      "outputs": [
        {
          "output_type": "stream",
          "name": "stdout",
          "text": [
            "WELCOME TO THE COURSE\n"
          ]
        }
      ]
    },
    {
      "cell_type": "code",
      "source": [
        "print(my_str.title ())"
      ],
      "metadata": {
        "colab": {
          "base_uri": "https://localhost:8080/"
        },
        "id": "Z3PTJ3fuZQ3Y",
        "outputId": "380d3896-1adb-4525-d519-bb5cece710b5"
      },
      "execution_count": 20,
      "outputs": [
        {
          "output_type": "stream",
          "name": "stdout",
          "text": [
            "Welcome To The Course\n"
          ]
        }
      ]
    },
    {
      "cell_type": "code",
      "source": [
        "my_str.find(\"come\")"
      ],
      "metadata": {
        "id": "3sb_WAJqZ5xD",
        "outputId": "0c90ca44-bac2-4046-ecc4-b289f5128720",
        "colab": {
          "base_uri": "https://localhost:8080/"
        }
      },
      "execution_count": 22,
      "outputs": [
        {
          "data": {
            "text/plain": [
              "3"
            ]
          },
          "execution_count": 22,
          "metadata": {},
          "output_type": "execute_result"
        }
      ]
    },
    {
      "cell_type": "code",
      "source": [
        "my_str.split(\" \")"
      ],
      "metadata": {
        "id": "BWen1Q4laAok",
        "outputId": "6fb64977-6861-4d4b-b53c-9d08691e1612",
        "colab": {
          "base_uri": "https://localhost:8080/"
        }
      },
      "execution_count": 23,
      "outputs": [
        {
          "output_type": "execute_result",
          "data": {
            "text/plain": [
              "['Welcome', 'to', 'the', 'Course']"
            ]
          },
          "metadata": {},
          "execution_count": 23
        }
      ]
    },
    {
      "cell_type": "markdown",
      "source": [
        "Few operations on strings"
      ],
      "metadata": {
        "id": "4diwRJ9AaPB3"
      }
    },
    {
      "cell_type": "code",
      "source": [
        "\"abc\"+\"pqr\""
      ],
      "metadata": {
        "id": "gYt7hLC_aSUM",
        "outputId": "391fc023-930b-4c35-b0b1-40e738ab0c92",
        "colab": {
          "base_uri": "https://localhost:8080/",
          "height": 35
        }
      },
      "execution_count": 24,
      "outputs": [
        {
          "output_type": "execute_result",
          "data": {
            "text/plain": [
              "'abcpqr'"
            ],
            "application/vnd.google.colaboratory.intrinsic+json": {
              "type": "string"
            }
          },
          "metadata": {},
          "execution_count": 24
        }
      ]
    },
    {
      "cell_type": "code",
      "source": [
        "\"abc\"+1"
      ],
      "metadata": {
        "id": "M5XPy3dJajjd",
        "outputId": "034777aa-3306-454a-ad7d-39ead83998a8",
        "colab": {
          "base_uri": "https://localhost:8080/",
          "height": 245
        }
      },
      "execution_count": 25,
      "outputs": [
        {
          "output_type": "error",
          "ename": "TypeError",
          "evalue": "can only concatenate str (not \"int\") to str",
          "traceback": [
            "\u001b[0;31m---------------------------------------------------------------------------\u001b[0m",
            "\u001b[0;31mTypeError\u001b[0m                                 Traceback (most recent call last)",
            "\u001b[0;32m<ipython-input-25-a29b1afbc875>\u001b[0m in \u001b[0;36m<cell line: 1>\u001b[0;34m()\u001b[0m\n\u001b[0;32m----> 1\u001b[0;31m \u001b[0;34m\"abc\"\u001b[0m\u001b[0;34m+\u001b[0m\u001b[0;36m1\u001b[0m\u001b[0;34m\u001b[0m\u001b[0;34m\u001b[0m\u001b[0m\n\u001b[0m",
            "\u001b[0;31mTypeError\u001b[0m: can only concatenate str (not \"int\") to str"
          ]
        }
      ]
    },
    {
      "cell_type": "code",
      "source": [
        "\"abc\"+str(1)"
      ],
      "metadata": {
        "id": "v-Zwmr_8ankf",
        "outputId": "ca09c1a6-a26f-4331-b9f0-503fbfbc55c8",
        "colab": {
          "base_uri": "https://localhost:8080/",
          "height": 35
        }
      },
      "execution_count": 26,
      "outputs": [
        {
          "output_type": "execute_result",
          "data": {
            "text/plain": [
              "'abc1'"
            ],
            "application/vnd.google.colaboratory.intrinsic+json": {
              "type": "string"
            }
          },
          "metadata": {},
          "execution_count": 26
        }
      ]
    },
    {
      "cell_type": "code",
      "source": [
        "\"hello\"*4"
      ],
      "metadata": {
        "id": "a5JkcpzGa2wF",
        "outputId": "a7efb2a2-c7df-4d31-9e49-e3e32ad4f287",
        "colab": {
          "base_uri": "https://localhost:8080/",
          "height": 35
        }
      },
      "execution_count": 27,
      "outputs": [
        {
          "output_type": "execute_result",
          "data": {
            "text/plain": [
              "'hellohellohellohello'"
            ],
            "application/vnd.google.colaboratory.intrinsic+json": {
              "type": "string"
            }
          },
          "metadata": {},
          "execution_count": 27
        }
      ]
    },
    {
      "cell_type": "markdown",
      "source": [
        "Lists"
      ],
      "metadata": {
        "id": "3Q8ttJgIbIDA"
      }
    },
    {
      "cell_type": "code",
      "source": [
        "my_list=[2,3,4,5]"
      ],
      "metadata": {
        "id": "lJPqgFIObJRg"
      },
      "execution_count": 49,
      "outputs": []
    },
    {
      "cell_type": "code",
      "source": [
        "print(my_list)"
      ],
      "metadata": {
        "id": "TjXQjvY_bOpQ",
        "outputId": "7eca568a-ee97-492a-8fa8-98867b8b6c89",
        "colab": {
          "base_uri": "https://localhost:8080/"
        }
      },
      "execution_count": 50,
      "outputs": [
        {
          "output_type": "stream",
          "name": "stdout",
          "text": [
            "[2, 3, 4, 5]\n"
          ]
        }
      ]
    },
    {
      "cell_type": "code",
      "source": [
        "print(type(my_list))"
      ],
      "metadata": {
        "id": "oD5vUNWgbRrz",
        "outputId": "fd1db8b2-40b5-439b-97f8-a0c91a66d024",
        "colab": {
          "base_uri": "https://localhost:8080/"
        }
      },
      "execution_count": 51,
      "outputs": [
        {
          "output_type": "stream",
          "name": "stdout",
          "text": [
            "<class 'list'>\n"
          ]
        }
      ]
    },
    {
      "cell_type": "markdown",
      "source": [
        "Indexing/slicing"
      ],
      "metadata": {
        "id": "LjCLavTHbe-c"
      }
    },
    {
      "cell_type": "code",
      "source": [
        "print(my_list[0])\n",
        "print(my_list[-1])\n",
        "print(my_list[1:-1])"
      ],
      "metadata": {
        "id": "JvO68uLTbidq",
        "outputId": "b1760baf-b053-4e7c-90ed-7766f30d4fde",
        "colab": {
          "base_uri": "https://localhost:8080/"
        }
      },
      "execution_count": 53,
      "outputs": [
        {
          "output_type": "stream",
          "name": "stdout",
          "text": [
            "2\n",
            "5\n",
            "[3, 4]\n"
          ]
        }
      ]
    },
    {
      "cell_type": "code",
      "source": [
        "my_list[0]=55\n",
        "print(my_list)"
      ],
      "metadata": {
        "id": "lCDr3VKcb-EJ",
        "outputId": "b5cbe00b-7c3f-4c8d-8eee-010b0b9bc428",
        "colab": {
          "base_uri": "https://localhost:8080/"
        }
      },
      "execution_count": 54,
      "outputs": [
        {
          "output_type": "stream",
          "name": "stdout",
          "text": [
            "[55, 3, 4, 5]\n"
          ]
        }
      ]
    },
    {
      "cell_type": "markdown",
      "source": [
        "Some imp methods for lists"
      ],
      "metadata": {
        "id": "fYAiDkVXceIA"
      }
    },
    {
      "cell_type": "code",
      "source": [
        "my_list.append(35)\n",
        "print (my_list)"
      ],
      "metadata": {
        "id": "cugZtqs8chjj",
        "outputId": "5cdbada3-3eb4-4b73-9e07-ce0ffe79abb2",
        "colab": {
          "base_uri": "https://localhost:8080/"
        }
      },
      "execution_count": 55,
      "outputs": [
        {
          "output_type": "stream",
          "name": "stdout",
          "text": [
            "[55, 3, 4, 5, 35]\n"
          ]
        }
      ]
    },
    {
      "cell_type": "code",
      "source": [
        "my_list.insert(1,88)\n",
        "print(my_list)"
      ],
      "metadata": {
        "id": "e98oS_Llc8-e",
        "outputId": "bf25de21-606f-4646-fa01-048c79a4f614",
        "colab": {
          "base_uri": "https://localhost:8080/"
        }
      },
      "execution_count": 56,
      "outputs": [
        {
          "output_type": "stream",
          "name": "stdout",
          "text": [
            "[55, 88, 3, 4, 5, 35]\n"
          ]
        }
      ]
    },
    {
      "cell_type": "code",
      "source": [
        "my_list.pop()\n",
        "print(my_list)"
      ],
      "metadata": {
        "id": "b0xH7glxfdO1",
        "outputId": "6cb0f959-3f98-4822-c7c6-1ece84fdc3b2",
        "colab": {
          "base_uri": "https://localhost:8080/"
        }
      },
      "execution_count": 58,
      "outputs": [
        {
          "output_type": "stream",
          "name": "stdout",
          "text": [
            "[55, 88, 3, 4]\n"
          ]
        }
      ]
    },
    {
      "cell_type": "code",
      "source": [
        "my_list.reverse()\n",
        "print(my_list)"
      ],
      "metadata": {
        "id": "TEnlZU8fghzU",
        "outputId": "c541a945-24e3-4a1b-d80d-541b48a488e9",
        "colab": {
          "base_uri": "https://localhost:8080/"
        }
      },
      "execution_count": 59,
      "outputs": [
        {
          "output_type": "stream",
          "name": "stdout",
          "text": [
            "[4, 3, 88, 55]\n"
          ]
        }
      ]
    },
    {
      "cell_type": "code",
      "source": [
        "my_list.sort()\n",
        "print(my_list)"
      ],
      "metadata": {
        "id": "SJRvbA3_gwsi",
        "outputId": "392bd47e-1e9d-4bb6-d51b-c6eac90c527b",
        "colab": {
          "base_uri": "https://localhost:8080/"
        }
      },
      "execution_count": 61,
      "outputs": [
        {
          "output_type": "stream",
          "name": "stdout",
          "text": [
            "[3, 4, 55, 88]\n"
          ]
        }
      ]
    },
    {
      "cell_type": "code",
      "source": [
        "my_list.sort(reverse=True)\n",
        "print(my_list)"
      ],
      "metadata": {
        "id": "8Yk_e7UJhFYv",
        "outputId": "dc3c38a6-fd49-487d-90c1-4fa9fb0bbaec",
        "colab": {
          "base_uri": "https://localhost:8080/"
        }
      },
      "execution_count": 63,
      "outputs": [
        {
          "output_type": "stream",
          "name": "stdout",
          "text": [
            "[88, 55, 4, 3]\n"
          ]
        }
      ]
    },
    {
      "cell_type": "code",
      "source": [
        "1 in my_list"
      ],
      "metadata": {
        "id": "4PIvZqXIhfxx",
        "outputId": "51a7f8d4-1bd6-4914-b82c-b115ca9abf2c",
        "colab": {
          "base_uri": "https://localhost:8080/"
        }
      },
      "execution_count": 64,
      "outputs": [
        {
          "output_type": "execute_result",
          "data": {
            "text/plain": [
              "False"
            ]
          },
          "metadata": {},
          "execution_count": 64
        }
      ]
    },
    {
      "cell_type": "code",
      "source": [
        "for i in my_list:\n",
        "  print(i**2)"
      ],
      "metadata": {
        "id": "rjNYIvS6hkRs",
        "outputId": "ed670f44-f648-4c86-8984-fc319edd434c",
        "colab": {
          "base_uri": "https://localhost:8080/"
        }
      },
      "execution_count": 65,
      "outputs": [
        {
          "output_type": "stream",
          "name": "stdout",
          "text": [
            "7744\n",
            "3025\n",
            "16\n",
            "9\n"
          ]
        }
      ]
    }
  ],
  "metadata": {
    "colab": {
      "provenance": [],
      "authorship_tag": "ABX9TyNw4S72bJCvRTEfkS8DCVWc",
      "include_colab_link": true
    },
    "kernelspec": {
      "display_name": "Python 3",
      "name": "python3"
    },
    "language_info": {
      "name": "python"
    }
  },
  "nbformat": 4,
  "nbformat_minor": 0
}