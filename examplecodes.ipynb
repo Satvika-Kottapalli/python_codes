{
  "nbformat": 4,
  "nbformat_minor": 0,
  "metadata": {
    "colab": {
      "provenance": [],
      "authorship_tag": "ABX9TyO/8zRHVrZmsznTUtTOToag",
      "include_colab_link": true
    },
    "kernelspec": {
      "name": "python3",
      "display_name": "Python 3"
    },
    "language_info": {
      "name": "python"
    }
  },
  "cells": [
    {
      "cell_type": "markdown",
      "metadata": {
        "id": "view-in-github",
        "colab_type": "text"
      },
      "source": [
        "<a href=\"https://colab.research.google.com/github/Satvika-Kottapalli/python_codes/blob/main/examplecodes.ipynb\" target=\"_parent\"><img src=\"https://colab.research.google.com/assets/colab-badge.svg\" alt=\"Open In Colab\"/></a>"
      ]
    },
    {
      "cell_type": "code",
      "execution_count": null,
      "metadata": {
        "colab": {
          "base_uri": "https://localhost:8080/"
        },
        "id": "AIDHrLiSrt6Q",
        "outputId": "8a379201-63a8-4118-9ce8-7d0183c0d612"
      },
      "outputs": [
        {
          "output_type": "stream",
          "name": "stdout",
          "text": [
            "Hello Students\n"
          ]
        }
      ],
      "source": [
        "print(\"Hello Students\")"
      ]
    },
    {
      "cell_type": "code",
      "source": [
        "print(\"Python\",\"Data Science\",20)"
      ],
      "metadata": {
        "colab": {
          "base_uri": "https://localhost:8080/"
        },
        "id": "82AucwqysBJD",
        "outputId": "81ba948c-b701-4d7a-ecd7-237fa881b15e"
      },
      "execution_count": null,
      "outputs": [
        {
          "output_type": "stream",
          "name": "stdout",
          "text": [
            "Python Data Science 20\n"
          ]
        }
      ]
    },
    {
      "cell_type": "markdown",
      "source": [
        "** Variables and Datatypes**"
      ],
      "metadata": {
        "id": "ibZBGKnV0lsn"
      }
    },
    {
      "cell_type": "code",
      "source": [
        "i=5"
      ],
      "metadata": {
        "id": "NaTlaW0_wzE4"
      },
      "execution_count": null,
      "outputs": []
    },
    {
      "cell_type": "code",
      "source": [
        "print(i)"
      ],
      "metadata": {
        "colab": {
          "base_uri": "https://localhost:8080/"
        },
        "id": "3i8ATbvpw2eN",
        "outputId": "30fc4e1b-a0fc-449d-a932-ba0db67a6802"
      },
      "execution_count": null,
      "outputs": [
        {
          "output_type": "stream",
          "name": "stdout",
          "text": [
            "5\n"
          ]
        }
      ]
    },
    {
      "cell_type": "code",
      "source": [
        "type(i)"
      ],
      "metadata": {
        "colab": {
          "base_uri": "https://localhost:8080/"
        },
        "id": "4vaTsre8w4gE",
        "outputId": "61371517-7ad0-4ad1-c8a6-bceedfaf849a"
      },
      "execution_count": null,
      "outputs": [
        {
          "output_type": "execute_result",
          "data": {
            "text/plain": [
              "int"
            ]
          },
          "metadata": {},
          "execution_count": 5
        }
      ]
    },
    {
      "cell_type": "code",
      "source": [
        "i=\"Python code\""
      ],
      "metadata": {
        "id": "Sv4Bi2Wmw7nP"
      },
      "execution_count": null,
      "outputs": []
    },
    {
      "cell_type": "code",
      "source": [
        "print(i)"
      ],
      "metadata": {
        "colab": {
          "base_uri": "https://localhost:8080/"
        },
        "id": "lKOJqgrZxA4c",
        "outputId": "32d682fa-73a0-47da-9de2-99314d9fdcc5"
      },
      "execution_count": null,
      "outputs": [
        {
          "output_type": "stream",
          "name": "stdout",
          "text": [
            "Python code\n"
          ]
        }
      ]
    },
    {
      "cell_type": "code",
      "source": [
        "type(i)"
      ],
      "metadata": {
        "colab": {
          "base_uri": "https://localhost:8080/"
        },
        "id": "saXr97L3xDrV",
        "outputId": "ed7cdd58-0f77-4a96-8288-e4e9db1c9ab1"
      },
      "execution_count": null,
      "outputs": [
        {
          "output_type": "execute_result",
          "data": {
            "text/plain": [
              "str"
            ]
          },
          "metadata": {},
          "execution_count": 8
        }
      ]
    },
    {
      "cell_type": "code",
      "source": [
        "my_f=82.2\n",
        "print(my_f)\n",
        "print(type(my_f))"
      ],
      "metadata": {
        "id": "xAmgrLN-yP8B",
        "colab": {
          "base_uri": "https://localhost:8080/"
        },
        "outputId": "f261d11a-c120-480c-d65b-185de1aeba53"
      },
      "execution_count": null,
      "outputs": [
        {
          "output_type": "stream",
          "name": "stdout",
          "text": [
            "82.2\n",
            "<class 'float'>\n"
          ]
        }
      ]
    },
    {
      "cell_type": "code",
      "source": [
        "my_bool=True\n",
        "print(my_bool)\n",
        "print(type(my_bool))"
      ],
      "metadata": {
        "id": "qH1CbQDjyadA",
        "colab": {
          "base_uri": "https://localhost:8080/"
        },
        "outputId": "de63a592-4774-4f84-fdb6-e8d219afa04f"
      },
      "execution_count": null,
      "outputs": [
        {
          "output_type": "stream",
          "name": "stdout",
          "text": [
            "True\n",
            "<class 'bool'>\n"
          ]
        }
      ]
    },
    {
      "cell_type": "code",
      "source": [
        "my_none=None\n",
        "print(my_none)\n",
        "print(type(my_none))"
      ],
      "metadata": {
        "id": "f0VW_a1nyc92",
        "colab": {
          "base_uri": "https://localhost:8080/"
        },
        "outputId": "7535ecaf-5202-4f47-8c86-dbce2d3a17c2"
      },
      "execution_count": null,
      "outputs": [
        {
          "output_type": "stream",
          "name": "stdout",
          "text": [
            "None\n",
            "<class 'NoneType'>\n"
          ]
        }
      ]
    },
    {
      "cell_type": "markdown",
      "source": [
        "** Input **"
      ],
      "metadata": {
        "id": "ubUwNPRq00mf"
      }
    },
    {
      "cell_type": "code",
      "source": [
        "name=input(\"Enter your name:\")"
      ],
      "metadata": {
        "colab": {
          "base_uri": "https://localhost:8080/"
        },
        "id": "_FoiU9O31svd",
        "outputId": "99b8249c-4f84-44e3-f8ab-74497ba82952"
      },
      "execution_count": 21,
      "outputs": [
        {
          "name": "stdout",
          "output_type": "stream",
          "text": [
            "Enter your name:Satvika\n"
          ]
        }
      ]
    },
    {
      "cell_type": "code",
      "source": [
        "print(name)\n",
        "print(type(name))"
      ],
      "metadata": {
        "id": "NYmefCHzzmr-",
        "colab": {
          "base_uri": "https://localhost:8080/"
        },
        "outputId": "7818a399-0388-4951-8e07-14246b659392"
      },
      "execution_count": 22,
      "outputs": [
        {
          "output_type": "stream",
          "name": "stdout",
          "text": [
            "Satvika\n",
            "<class 'str'>\n"
          ]
        }
      ]
    },
    {
      "cell_type": "markdown",
      "source": [
        "**Type Casting**"
      ],
      "metadata": {
        "id": "vSI350Mp1TqI"
      }
    },
    {
      "cell_type": "code",
      "source": [
        "num='8'\n",
        "print(type(num))"
      ],
      "metadata": {
        "id": "7TdPdlAfz2Tj",
        "colab": {
          "base_uri": "https://localhost:8080/"
        },
        "outputId": "7fea9836-8c13-4d15-a0ec-ff92ecd00b0c"
      },
      "execution_count": 15,
      "outputs": [
        {
          "output_type": "stream",
          "name": "stdout",
          "text": [
            "<class 'str'>\n"
          ]
        }
      ]
    },
    {
      "cell_type": "code",
      "source": [
        "num=int(num)\n",
        "print(type(num))"
      ],
      "metadata": {
        "id": "Rdi0kundz-aQ",
        "colab": {
          "base_uri": "https://localhost:8080/"
        },
        "outputId": "419a5c68-3db6-445c-b1a4-2b1dd97b0349"
      },
      "execution_count": 16,
      "outputs": [
        {
          "output_type": "stream",
          "name": "stdout",
          "text": [
            "<class 'int'>\n"
          ]
        }
      ]
    },
    {
      "cell_type": "code",
      "source": [
        "age=int(input(\"What is your age ? \"))"
      ],
      "metadata": {
        "id": "XTrSKmrv0EmE",
        "colab": {
          "base_uri": "https://localhost:8080/"
        },
        "outputId": "cc997a20-22ec-4f33-9c81-b7195694497f"
      },
      "execution_count": 17,
      "outputs": [
        {
          "name": "stdout",
          "output_type": "stream",
          "text": [
            "What is your age ? 20\n"
          ]
        }
      ]
    },
    {
      "cell_type": "code",
      "source": [
        "print(age)\n",
        "print(type(age))"
      ],
      "metadata": {
        "id": "K3ej5u390O78",
        "colab": {
          "base_uri": "https://localhost:8080/"
        },
        "outputId": "b38541df-4f16-442f-9bc6-c793af0e920b"
      },
      "execution_count": 18,
      "outputs": [
        {
          "output_type": "stream",
          "name": "stdout",
          "text": [
            "20\n",
            "<class 'int'>\n"
          ]
        }
      ]
    },
    {
      "cell_type": "markdown",
      "source": [
        "**Operators **"
      ],
      "metadata": {
        "id": "9Z8DKQW71-se"
      }
    },
    {
      "cell_type": "markdown",
      "source": [
        "Arithmatic"
      ],
      "metadata": {
        "id": "1q0Wdjs92cJO"
      }
    },
    {
      "cell_type": "code",
      "source": [
        "a=12\n",
        "b=3"
      ],
      "metadata": {
        "id": "Istg04912ZtV"
      },
      "execution_count": 24,
      "outputs": []
    },
    {
      "cell_type": "code",
      "source": [
        "print(\"add= \",a+b)\n",
        "print(\"sub= \",a-b)\n",
        "print(\"multi= \",a*b)\n",
        "print(\"div= \",a/b)\n",
        "print(\"f_div= \",a//b)\n",
        "print(\"exp= \",a**b)\n",
        "print(\"mod= \",a%b)"
      ],
      "metadata": {
        "colab": {
          "base_uri": "https://localhost:8080/"
        },
        "id": "BH0MRbBz2o_6",
        "outputId": "af463e8e-02f8-489d-875a-40f78ab2c65d"
      },
      "execution_count": 25,
      "outputs": [
        {
          "output_type": "stream",
          "name": "stdout",
          "text": [
            "add=  15\n",
            "sub=  9\n",
            "multi=  36\n",
            "div=  4.0\n",
            "f_div=  4\n",
            "exp=  1728\n",
            "mod=  0\n"
          ]
        }
      ]
    },
    {
      "cell_type": "markdown",
      "source": [
        "Comparision"
      ],
      "metadata": {
        "id": "RNHf_Gwm3aBS"
      }
    },
    {
      "cell_type": "code",
      "source": [
        "print(\"a>b:\",a>b)\n",
        "print(\"a<b:\",a<b)\n",
        "print(\"a==b:\",a==b)\n",
        "print(\"a!=b:\",a!=b)"
      ],
      "metadata": {
        "colab": {
          "base_uri": "https://localhost:8080/"
        },
        "id": "2JrJ0EKX3Xlj",
        "outputId": "096f69c3-b2a4-4f31-88b3-bda62eaf1c75"
      },
      "execution_count": 27,
      "outputs": [
        {
          "output_type": "stream",
          "name": "stdout",
          "text": [
            "a>b: True\n",
            "a<b: False\n",
            "a==b: False\n",
            "a!=b: True\n"
          ]
        }
      ]
    },
    {
      "cell_type": "markdown",
      "source": [
        "Logical"
      ],
      "metadata": {
        "id": "yhrTLV7S30Vy"
      }
    },
    {
      "cell_type": "code",
      "source": [
        "print((10>2)and (10<20))"
      ],
      "metadata": {
        "colab": {
          "base_uri": "https://localhost:8080/"
        },
        "id": "R8aGW_tV34fL",
        "outputId": "2c145830-760c-4bc3-b0f2-8c6cf9f43d93"
      },
      "execution_count": 28,
      "outputs": [
        {
          "output_type": "stream",
          "name": "stdout",
          "text": [
            "True\n"
          ]
        }
      ]
    },
    {
      "cell_type": "code",
      "source": [
        "print((10>20) or (10>11))"
      ],
      "metadata": {
        "colab": {
          "base_uri": "https://localhost:8080/"
        },
        "id": "UeRhCgFw3-g3",
        "outputId": "fd7631c2-8b31-4db1-a814-fd131853a7cf"
      },
      "execution_count": 29,
      "outputs": [
        {
          "output_type": "stream",
          "name": "stdout",
          "text": [
            "False\n"
          ]
        }
      ]
    },
    {
      "cell_type": "code",
      "source": [
        "print(not(True))"
      ],
      "metadata": {
        "colab": {
          "base_uri": "https://localhost:8080/"
        },
        "id": "VUMw0KNc4Ev4",
        "outputId": "401b1029-ea98-4000-f037-e2507c02e4c9"
      },
      "execution_count": 30,
      "outputs": [
        {
          "output_type": "stream",
          "name": "stdout",
          "text": [
            "False\n"
          ]
        }
      ]
    },
    {
      "cell_type": "markdown",
      "source": [
        "Bitwise"
      ],
      "metadata": {
        "id": "-lIAeWYU4IL8"
      }
    },
    {
      "cell_type": "code",
      "source": [
        "print(10 & 4)"
      ],
      "metadata": {
        "colab": {
          "base_uri": "https://localhost:8080/"
        },
        "id": "fL_LJBw-4KK8",
        "outputId": "085dafc4-ee1b-43a6-ed00-d12f9073853a"
      },
      "execution_count": 31,
      "outputs": [
        {
          "output_type": "stream",
          "name": "stdout",
          "text": [
            "0\n"
          ]
        }
      ]
    },
    {
      "cell_type": "code",
      "source": [
        "print(10 | 4)"
      ],
      "metadata": {
        "colab": {
          "base_uri": "https://localhost:8080/"
        },
        "id": "ONTXy0Yr4SC8",
        "outputId": "261b85fc-62e9-441d-b247-2f0267b0d08b"
      },
      "execution_count": 32,
      "outputs": [
        {
          "output_type": "stream",
          "name": "stdout",
          "text": [
            "14\n"
          ]
        }
      ]
    },
    {
      "cell_type": "markdown",
      "source": [
        "Membership"
      ],
      "metadata": {
        "id": "cckISEzq4YBw"
      }
    },
    {
      "cell_type": "code",
      "source": [
        "\"g\" in \"good\""
      ],
      "metadata": {
        "colab": {
          "base_uri": "https://localhost:8080/"
        },
        "id": "wYaSYqJ_4Zs0",
        "outputId": "6570d613-6528-45df-9dcb-705f397bf5a5"
      },
      "execution_count": 33,
      "outputs": [
        {
          "output_type": "execute_result",
          "data": {
            "text/plain": [
              "True"
            ]
          },
          "metadata": {},
          "execution_count": 33
        }
      ]
    },
    {
      "cell_type": "markdown",
      "source": [
        "Control Flow: Conditional Statements"
      ],
      "metadata": {
        "id": "dhCeozfm4kzf"
      }
    },
    {
      "cell_type": "code",
      "source": [
        "age=14\n",
        "if(age>=18):\n",
        "  print(\"you can vote\")\n",
        "else:\n",
        "  print(\"Grow up first\")"
      ],
      "metadata": {
        "colab": {
          "base_uri": "https://localhost:8080/"
        },
        "id": "f_eGo6Yw41gU",
        "outputId": "b9e5c770-001c-4a85-9f6a-6c9a04df9907"
      },
      "execution_count": 34,
      "outputs": [
        {
          "output_type": "stream",
          "name": "stdout",
          "text": [
            "Grow up first\n"
          ]
        }
      ]
    },
    {
      "cell_type": "code",
      "source": [
        "age=17\n",
        "if(age>=18):\n",
        "  print(\"you can vote\")\n",
        "elif(age >=15):\n",
        "  print(\"Grow up first\")\n",
        "else:\n",
        "  print(\"Go home kid..\")"
      ],
      "metadata": {
        "colab": {
          "base_uri": "https://localhost:8080/"
        },
        "id": "-oA4OGED4cAD",
        "outputId": "a5b44b13-550f-4882-92db-c1ef2ead0394"
      },
      "execution_count": 35,
      "outputs": [
        {
          "output_type": "stream",
          "name": "stdout",
          "text": [
            "Grow up first\n"
          ]
        }
      ]
    },
    {
      "cell_type": "markdown",
      "source": [
        "Control Flow:Loops/iterations"
      ],
      "metadata": {
        "id": "U6b4KePa5bcY"
      }
    },
    {
      "cell_type": "markdown",
      "source": [
        "Q.Print all even numbers from 1 to 20"
      ],
      "metadata": {
        "id": "VZpOirJm5qWA"
      }
    },
    {
      "cell_type": "code",
      "source": [
        "i=1\n",
        "while(i<=20):\n",
        "  if(i%2==0):\n",
        "    print(i,end=\",\") #end is used to print all o/p's in one line\n",
        "  i=i+1"
      ],
      "metadata": {
        "colab": {
          "base_uri": "https://localhost:8080/"
        },
        "id": "QTEscTg15n_h",
        "outputId": "1f9251d0-8f16-4eaa-81a1-73a32e1b0b4a"
      },
      "execution_count": 38,
      "outputs": [
        {
          "output_type": "stream",
          "name": "stdout",
          "text": [
            "2,4,6,8,10,12,14,16,18,20,"
          ]
        }
      ]
    },
    {
      "cell_type": "code",
      "source": [
        "for i in range(1,21):\n",
        "  if(i%2==0):\n",
        "    print(i,end=\" \")"
      ],
      "metadata": {
        "colab": {
          "base_uri": "https://localhost:8080/"
        },
        "id": "XTSMvze16oXC",
        "outputId": "9174a4cb-b0d3-4d31-ff65-77d2e67a3432"
      },
      "execution_count": 39,
      "outputs": [
        {
          "output_type": "stream",
          "name": "stdout",
          "text": [
            "2 4 6 8 10 12 14 16 18 20 "
          ]
        }
      ]
    },
    {
      "cell_type": "code",
      "source": [
        "for i in range(2,21,2):\n",
        "  if(i%2==0):\n",
        "    print(i,end=\" \")"
      ],
      "metadata": {
        "colab": {
          "base_uri": "https://localhost:8080/"
        },
        "id": "EPAWy1sW7NXI",
        "outputId": "c33196d3-dc1c-4a23-9303-7a32eae5643d"
      },
      "execution_count": 41,
      "outputs": [
        {
          "output_type": "stream",
          "name": "stdout",
          "text": [
            "2 4 6 8 10 12 14 16 18 20 "
          ]
        }
      ]
    },
    {
      "cell_type": "code",
      "source": [
        "n=int(input(\"enter a number: \"))\n",
        "for i in range(1,11,1):\n",
        "  print(n,\"x\",i,\"=\",n*i)"
      ],
      "metadata": {
        "colab": {
          "base_uri": "https://localhost:8080/"
        },
        "id": "asr6DIwS72Nk",
        "outputId": "075072da-4204-41a6-f2e8-1866a10f42dc"
      },
      "execution_count": 45,
      "outputs": [
        {
          "output_type": "stream",
          "name": "stdout",
          "text": [
            "enter a number: 3\n",
            "3 x 1 = 3\n",
            "3 x 2 = 6\n",
            "3 x 3 = 9\n",
            "3 x 4 = 12\n",
            "3 x 5 = 15\n",
            "3 x 6 = 18\n",
            "3 x 7 = 21\n",
            "3 x 8 = 24\n",
            "3 x 9 = 27\n",
            "3 x 10 = 30\n"
          ]
        }
      ]
    },
    {
      "cell_type": "markdown",
      "source": [
        "**Break and Continue **"
      ],
      "metadata": {
        "id": "dFQpKhPS8VsS"
      }
    },
    {
      "cell_type": "code",
      "source": [
        "for i in range(1,10):\n",
        "  if (i==6):\n",
        "    break  #used to terminate all iterations\n",
        "  print(i)"
      ],
      "metadata": {
        "colab": {
          "base_uri": "https://localhost:8080/"
        },
        "id": "gabrw0Y98bay",
        "outputId": "bd1f4923-72fe-4a08-8089-5ac465165b9b"
      },
      "execution_count": 46,
      "outputs": [
        {
          "output_type": "stream",
          "name": "stdout",
          "text": [
            "1\n",
            "2\n",
            "3\n",
            "4\n",
            "5\n"
          ]
        }
      ]
    },
    {
      "cell_type": "code",
      "source": [
        "for i in range(1,10):\n",
        "  if (i==6):\n",
        "    continue #skips just current iteration\n",
        "  print(i)"
      ],
      "metadata": {
        "colab": {
          "base_uri": "https://localhost:8080/"
        },
        "id": "KZJDt32t800-",
        "outputId": "e4edcd4d-4b39-49fc-f536-c90ce0ddd29d"
      },
      "execution_count": 47,
      "outputs": [
        {
          "output_type": "stream",
          "name": "stdout",
          "text": [
            "1\n",
            "2\n",
            "3\n",
            "4\n",
            "5\n",
            "7\n",
            "8\n",
            "9\n"
          ]
        }
      ]
    },
    {
      "cell_type": "markdown",
      "source": [
        "**Challenges**"
      ],
      "metadata": {
        "id": "rIuDXUd49CU9"
      }
    },
    {
      "cell_type": "markdown",
      "source": [
        "Q1) Write a program to check given number is even/odd"
      ],
      "metadata": {
        "id": "cbPna-KN9LfI"
      }
    },
    {
      "cell_type": "code",
      "source": [
        "n=int(input(\"Enter number: \"))\n",
        "if(n%2==0):\n",
        "  print(\"Given number is even\")\n",
        "else:\n",
        "  print(\"Given number is odd\")"
      ],
      "metadata": {
        "colab": {
          "base_uri": "https://localhost:8080/"
        },
        "id": "6eyFYQdt9FeO",
        "outputId": "d758f0e9-9d9a-4389-e4bf-893340dfc62f"
      },
      "execution_count": 48,
      "outputs": [
        {
          "output_type": "stream",
          "name": "stdout",
          "text": [
            "Enter number: 22\n",
            "Given number is even\n"
          ]
        }
      ]
    },
    {
      "cell_type": "markdown",
      "source": [
        "Q2)Write a number to find the largest among the given three numbers(take 3 inputs from user)"
      ],
      "metadata": {
        "id": "G8lhvxBV9t4K"
      }
    },
    {
      "cell_type": "code",
      "source": [
        "a=int(input(\"Enter first number: \"))\n",
        "b=int(input(\"Enter second number: \"))\n",
        "c=int(input(\"Enter third number: \"))\n",
        "if((a>b) and (a>c)):\n",
        "  print(a,\" is largest among the given 3 numbers\")\n",
        "elif((b>c) and (b>a)):\n",
        "  print(b,\" is largest among the given 3 numbers\")\n",
        "else:\n",
        "    print(c,\" is largest among the given 3 numbers\")"
      ],
      "metadata": {
        "colab": {
          "base_uri": "https://localhost:8080/"
        },
        "id": "n_3gV_TA9n2J",
        "outputId": "8fd2e8dd-6440-4e1e-93c6-8bb0eb173f16"
      },
      "execution_count": 50,
      "outputs": [
        {
          "output_type": "stream",
          "name": "stdout",
          "text": [
            "Enter first number: 2\n",
            "Enter second number: 3\n",
            "Enter third number: 5\n",
            "5  is largest among the given 3 numbers\n"
          ]
        }
      ]
    },
    {
      "cell_type": "markdown",
      "source": [
        "Q3) Write a program to calculate the factorial of a given number?"
      ],
      "metadata": {
        "id": "fQh2Xtvn-z4E"
      }
    },
    {
      "cell_type": "code",
      "source": [
        "n=int(input(\"Enter a number: \"))\n",
        "fact=1\n",
        "if(n==0 or n==1):\n",
        "  print(\"Factorial of\",n,\"is: 1\")\n",
        "if(n>1):\n",
        "  for i in range(1,n+1):\n",
        "    fact=fact*i\n",
        "  print(\"Factorial of\",n,\"is:\",fact)"
      ],
      "metadata": {
        "colab": {
          "base_uri": "https://localhost:8080/"
        },
        "id": "G02KiTCLAaGJ",
        "outputId": "813c38a5-66b5-49e7-cc65-5bd1914d5030"
      },
      "execution_count": 57,
      "outputs": [
        {
          "output_type": "stream",
          "name": "stdout",
          "text": [
            "Enter a number: 2\n",
            "Factorial of 2 is: 2\n"
          ]
        }
      ]
    },
    {
      "cell_type": "markdown",
      "source": [
        "Q4)Write a program to check given number is prime or not"
      ],
      "metadata": {
        "id": "Nr7b3fxzAGc6"
      }
    },
    {
      "cell_type": "code",
      "source": [
        "n=int(input(\"Enter a number: \"))\n",
        "count=0\n",
        "if(n==1):\n",
        "  print(\"neither prime nor composite\")\n",
        "elif(n>1):\n",
        "  for i in range(1,n+1):\n",
        "    if(n%i==0):\n",
        "      count+=1\n",
        "  if(count<=2):\n",
        "    print(n,\"is prime\")\n",
        "else:\n",
        "  print(n,\"is not prime\")"
      ],
      "metadata": {
        "colab": {
          "base_uri": "https://localhost:8080/"
        },
        "id": "rhy8FbpkAOpH",
        "outputId": "e573e77e-062a-4c80-9eea-3ca4ddf3f624"
      },
      "execution_count": 62,
      "outputs": [
        {
          "output_type": "stream",
          "name": "stdout",
          "text": [
            "Enter a number: 37\n",
            "37 is prime\n"
          ]
        }
      ]
    }
  ]
}